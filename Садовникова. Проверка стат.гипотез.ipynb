{
 "cells": [
  {
   "cell_type": "markdown",
   "metadata": {},
   "source": [
    "# Реализация правосторонней, левосторонней и двусторонней гипотез с помощью z-критерия для пропорций"
   ]
  },
  {
   "cell_type": "markdown",
   "metadata": {},
   "source": [
    "# Задание 1."
   ]
  },
  {
   "cell_type": "code",
   "execution_count": 58,
   "metadata": {},
   "outputs": [],
   "source": [
    "import pandas as pd\n",
    "import numpy as np\n",
    "import seaborn as sns\n",
    "import matplotlib.pyplot as plt\n",
    "from scipy import stats"
   ]
  },
  {
   "cell_type": "markdown",
   "metadata": {},
   "source": [
    "# 1.1. Проверка правосторонней гипотезы с помощью z-критерия для пропорций"
   ]
  },
  {
   "cell_type": "markdown",
   "metadata": {},
   "source": [
    "Допустим, у нас есть приложение такси. Для привлечения интереса к приложению мы используем push-уведомления. \n",
    "Также мы считаем, что женщины склонны больше реагировать на такие уведомления, чем мужчины.\n",
    "Для проверки этой гипотезы мы показали push-уведомления двум группам людей: одна состоит из 10000 женщин, вторая - из 10000 мужчин. Теперь мы хотим посчитать, какой процент женщин и какой мужчин отреагировали на уведомление и воспользовались приложением в течение трёх дней с момента уведомления.\n",
    "Таким образом, наши гипотезы звучат так:\n",
    "H0 - нет значимой разницы между процентом мужчин и женщин, воспользовавшихся приложением после push-уведомления;\n",
    "H1 - процент женщин, воспользовавшихся приложением, больше, чем процент мужчин.\n",
    "В качестве уровня значимости возьмём традиционный 0.05."
   ]
  },
  {
   "cell_type": "code",
   "execution_count": 175,
   "metadata": {},
   "outputs": [],
   "source": [
    "# Сгенерируем наши выборки:\n",
    "np.random.seed(123)\n",
    "\n",
    "arr_0 = np.random.binomial(1, 0.25, 10000) # Количество женщин, воспользовавшихся приложением\n",
    "arr_1 = np.random.binomial(1, 0.23, 10000) # Количество мужчин, воспользовавшихся приложением"
   ]
  },
  {
   "cell_type": "code",
   "execution_count": 176,
   "metadata": {},
   "outputs": [],
   "source": [
    "# Зададим функцию подсчитывания z-критерия для пропорций:\n",
    "def right_sided_z_crit(arr_0, arr_1):\n",
    "    N1 = len(arr_0)\n",
    "    N2 = len(arr_1)\n",
    "    p1 = sum(arr_0) / len(arr_0)\n",
    "    p2 = sum(arr_1) / len(arr_1)\n",
    "    \n",
    "    p = (N1 * p1 + N2 * p2) / (N1 + N2) \n",
    "    z = np.sqrt(N1 * N2 / (N1 + N2)) * ((p1 - p2) / np.sqrt(p * (1 - p)))\n",
    "    return z"
   ]
  },
  {
   "cell_type": "code",
   "execution_count": 177,
   "metadata": {},
   "outputs": [
    {
     "data": {
      "text/plain": [
       "2.4767208023734564"
      ]
     },
     "execution_count": 177,
     "metadata": {},
     "output_type": "execute_result"
    }
   ],
   "source": [
    "right_sided_z_crit(arr_0, arr_1)"
   ]
  },
  {
   "cell_type": "code",
   "execution_count": 178,
   "metadata": {},
   "outputs": [],
   "source": [
    "# Определим критическое значение z-критерия для выбранного уровня значимости (0.05) и сравним его с полученным результатом:\n",
    "def right_sided_z_crit_result(arr_0, arr_1, significance = 0.05):\n",
    "    z_crit = -stats.norm.ppf(significance)\n",
    "    z = right_sided_z_crit(arr_0, arr_1)\n",
    "    if z > z_crit:\n",
    "        print(\"Разница значима\")\n",
    "    else:\n",
    "        print(\"Нет значимой разницы\")"
   ]
  },
  {
   "cell_type": "code",
   "execution_count": 179,
   "metadata": {},
   "outputs": [
    {
     "name": "stdout",
     "output_type": "stream",
     "text": [
      "Разница значима\n"
     ]
    }
   ],
   "source": [
    "right_sided_z_crit_result(arr_0, arr_1, significance = 0.05)"
   ]
  },
  {
   "cell_type": "markdown",
   "metadata": {},
   "source": [
    "Таким образом, с помощью z-критерия для пропорций мы выяснили, что разница между реакцией на push-уведомления мужчин и женщин, пользующихся нашим приложением, скорее всего, действительно значима: на представителей женского пола push-уведомления оказывают большее влияние. Мы подтверждили нашу альтернативную правостороннюю гипотезу."
   ]
  },
  {
   "cell_type": "markdown",
   "metadata": {},
   "source": [
    "# 1.2. Проверка левосторонней гипотезы с помощью z-критерия для пропорций"
   ]
  },
  {
   "cell_type": "markdown",
   "metadata": {},
   "source": [
    "Мы всё ещё являемся приложением такси и совсем не хотим терять наших пользователей. Нам кажется, что некоторые пользователи отказываются от поездки на этапе подачи машины, увидев в приложении слишком долгое время прибытия водителя. Мы решили провести эксперимент: взяли две группы участников (каждая по 5 тысяч человек) и снизили для одной группы высвечивающееся время прибытия водителя в два раза. Мы считаем, что в этой группе процент отказов от поездки на этапе подачи машины будет меньше. Таким образом, наши гипотезы будут следующие:\n",
    "H0 - значимой разницы между двумя выборками в проценте отказов от заказа нет;\n",
    "H1 - в той выборке, в которой людям высветилось меньшее время прибытия автомобиля, процент отказов от заказа будет меньше.\n",
    "Уровень значимости - 0.05."
   ]
  },
  {
   "cell_type": "code",
   "execution_count": 181,
   "metadata": {},
   "outputs": [],
   "source": [
    "# Сгенерируем наши выборки:\n",
    "np.random.seed(123)\n",
    "\n",
    "arr_0 = np.random.binomial(1, 0.11, 5000) # Количество отказов от заказа в группе с уменьшенным вдвое временем прибытия водителя\n",
    "arr_1 = np.random.binomial(1, 0.12, 5000) # Количество отказов от заказа в группе с реальным временем прибытия водителя"
   ]
  },
  {
   "cell_type": "code",
   "execution_count": 182,
   "metadata": {},
   "outputs": [],
   "source": [
    "# Зададим функцию подсчитывания z-критерия для пропорций:\n",
    "def left_sided_z_crit(arr_0, arr_1):\n",
    "    N1 = len(arr_0)\n",
    "    N2 = len(arr_1)\n",
    "    p1 = sum(arr_0) / len(arr_0)\n",
    "    p2 = sum(arr_1) / len(arr_1)\n",
    "    \n",
    "    p = (N1 * p1 + N2 * p2) / (N1 + N2) \n",
    "    z = np.sqrt(N1 * N2 / (N1 + N2)) * ((p1 - p2) / np.sqrt(p * (1 - p)))\n",
    "    return z"
   ]
  },
  {
   "cell_type": "code",
   "execution_count": 183,
   "metadata": {},
   "outputs": [
    {
     "data": {
      "text/plain": [
       "-0.41597942649911157"
      ]
     },
     "execution_count": 183,
     "metadata": {},
     "output_type": "execute_result"
    }
   ],
   "source": [
    "left_sided_z_crit(arr_0, arr_1)"
   ]
  },
  {
   "cell_type": "code",
   "execution_count": 184,
   "metadata": {},
   "outputs": [],
   "source": [
    "# Определим критическое значение z-критерия для выбранного уровня значимости (0.05) и сравним его с полученным результатом:\n",
    "def left_sided_z_crit_result(arr_0, arr_1, significance = 0.05):\n",
    "    z_crit = stats.norm.ppf(significance)\n",
    "    z = left_sided_z_crit(arr_0, arr_1)\n",
    "    if z < z_crit:\n",
    "        print(\"Разница значима\")\n",
    "    else:\n",
    "        print(\"Нет значимой разницы\")"
   ]
  },
  {
   "cell_type": "code",
   "execution_count": 185,
   "metadata": {},
   "outputs": [
    {
     "name": "stdout",
     "output_type": "stream",
     "text": [
      "Нет значимой разницы\n"
     ]
    }
   ],
   "source": [
    "left_sided_z_crit_result(arr_0, arr_1, significance = 0.05)"
   ]
  },
  {
   "cell_type": "markdown",
   "metadata": {},
   "source": [
    "Таким образом, с помощью z-критерия для пропорций мы выяснили, что на самом деле нет значимой корелляции между временем прибытия водителя и процентом отказов клиентов от заказа."
   ]
  },
  {
   "cell_type": "markdown",
   "metadata": {},
   "source": [
    "# 1.3. Проверка двусторонней гипотезы с помощью z-критерия для пропорций "
   ]
  },
  {
   "cell_type": "markdown",
   "metadata": {},
   "source": [
    "И вот мы вновь являемся приложением такси и на этот раз хотим привлечь в наше приложение больше новых пользователей. Для этого мы нарисовали целых два новых рекламных баннера и провели эксперимент, чтобы выяснить, какой из них лучше. Также нельзя сразу отказаться от предположения, что существенной разницы между ними нет и на процент кликов это никак не повлияет. Для этого нам вновь приходит на помощь z-критерий для пропорций. Значит, наши гипотезы сформулированы так:\n",
    "H0 - значимой разницы в проценте вызванных кликов между баннерами нет;\n",
    "H1 - один из баннеров действительно лучше второго и привлекает больше пользователей.\n",
    "Уровень значимости - 0.05."
   ]
  },
  {
   "cell_type": "code",
   "execution_count": 186,
   "metadata": {},
   "outputs": [],
   "source": [
    "# Генерируем выборки:\n",
    "np.random.seed(123)\n",
    "\n",
    "arr_0 = np.random.binomial(1, 0.16, 500) # Количество человек, кликнувших первый баннер\n",
    "arr_1 = np.random.binomial(1, 0.17, 500) # Количество человек, кликнувших второй баннер"
   ]
  },
  {
   "cell_type": "code",
   "execution_count": 187,
   "metadata": {},
   "outputs": [],
   "source": [
    "# Зададим функцию подсчитывания z-критерия для пропорций:\n",
    "def two_sided_z_crit(arr_0, arr_1):\n",
    "    N1 = len(arr_0)\n",
    "    N2 = len(arr_1)\n",
    "    p1 = sum(arr_0) / len(arr_0)\n",
    "    p2 = sum(arr_1) / len(arr_1)\n",
    "    p = (N1 * p1 + N2 * p2) / (N1 + N2) \n",
    "    z = np.sqrt(N1 * N2 / (N1 + N2)) * ((p1 - p2) / np.sqrt(p * (1 - p)))\n",
    "    return z"
   ]
  },
  {
   "cell_type": "code",
   "execution_count": 188,
   "metadata": {},
   "outputs": [],
   "source": [
    "# Определим критическое значение z-критерия для выбранного уровня значимости (0.05) и сравним его с полученным результатом:\n",
    "def two_sided_z_crit_result(arr_0, arr_1, significance = 0.05):\n",
    "    z_crit_left = stats.norm.ppf(significance / 2)\n",
    "    z_crit_right = -stats.norm.ppf(significance / 2)\n",
    "    z = two_sided_z_crit(arr_0, arr_1)\n",
    "    if z < z_crit_left or z > z_crit_right:\n",
    "        print(\"Разница значима\")\n",
    "    else:\n",
    "        print(\"Нет значимой разницы\")"
   ]
  },
  {
   "cell_type": "code",
   "execution_count": 189,
   "metadata": {},
   "outputs": [
    {
     "name": "stdout",
     "output_type": "stream",
     "text": [
      "Нет значимой разницы\n"
     ]
    }
   ],
   "source": [
    "two_sided_z_crit_result(arr_0, arr_1, significance = 0.05)"
   ]
  },
  {
   "cell_type": "markdown",
   "metadata": {},
   "source": [
    "Итак, с помощью z-критерия для пропорций мы убедились в том, что между новыми рекламными баннерами нет значимой разницы в проценте вызванных кликов. :("
   ]
  },
  {
   "cell_type": "markdown",
   "metadata": {},
   "source": [
    "Таким образом, мы реализовали проверку правосторонней, левосторонней и двусторонней гипотезы с помощью z - критерия для пропорций на примере приложения такси."
   ]
  }
 ],
 "metadata": {
  "kernelspec": {
   "display_name": "Python 3",
   "language": "python",
   "name": "python3"
  },
  "language_info": {
   "codemirror_mode": {
    "name": "ipython",
    "version": 3
   },
   "file_extension": ".py",
   "mimetype": "text/x-python",
   "name": "python",
   "nbconvert_exporter": "python",
   "pygments_lexer": "ipython3",
   "version": "3.8.3"
  }
 },
 "nbformat": 4,
 "nbformat_minor": 4
}
